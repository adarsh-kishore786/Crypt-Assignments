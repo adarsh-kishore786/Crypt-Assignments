{
  "nbformat": 4,
  "nbformat_minor": 0,
  "metadata": {
    "colab": {
      "name": "Tic-Tac-Toe",
      "provenance": [],
      "collapsed_sections": [],
      "authorship_tag": "ABX9TyOG1/aSjUqyuhZ0PCvFXPgL",
      "include_colab_link": true
    },
    "kernelspec": {
      "name": "python3",
      "display_name": "Python 3"
    },
    "language_info": {
      "name": "python"
    }
  },
  "cells": [
    {
      "cell_type": "markdown",
      "metadata": {
        "id": "view-in-github",
        "colab_type": "text"
      },
      "source": [
        "<a href=\"https://colab.research.google.com/github/adarsh-kishore786/Crypt-Assignments/blob/main/Tic_Tac_Toe.ipynb\" target=\"_parent\"><img src=\"https://colab.research.google.com/assets/colab-badge.svg\" alt=\"Open In Colab\"/></a>"
      ]
    },
    {
      "cell_type": "code",
      "metadata": {
        "id": "OspRfQY83O6w"
      },
      "source": [
        "import numpy as np"
      ],
      "execution_count": 1,
      "outputs": []
    },
    {
      "cell_type": "code",
      "metadata": {
        "id": "h_1GU_gHDvMl"
      },
      "source": [
        "# class simulating a player\n",
        "\n",
        "class Player:\n",
        "  def __init__(self, name, win=False, icon='X'):\n",
        "    self.name = name\n",
        "    self.icon = icon\n",
        "    self.win = win\n",
        "\n",
        "  def __str__(self):\n",
        "    return \"Player {0} has icon {1}\".format(self.name, self.icon)\n",
        "\n",
        "  def getName(self):\n",
        "    return self.name\n",
        "\n",
        "  def getIcon(self):\n",
        "    return self.icon\n",
        "\n",
        "  def hasWon(self):\n",
        "    return self.win\n",
        "\n",
        "  def setWon(self):\n",
        "    self.win = True"
      ],
      "execution_count": 2,
      "outputs": []
    },
    {
      "cell_type": "code",
      "metadata": {
        "colab": {
          "base_uri": "https://localhost:8080/"
        },
        "id": "CgaZsq6RE-iA",
        "outputId": "312ca674-1b1e-416b-f647-aa197ad0e9b4"
      },
      "source": [
        "# testing the Player class \n",
        "p = Player('Ash')\n",
        "print(p)"
      ],
      "execution_count": 3,
      "outputs": [
        {
          "output_type": "stream",
          "name": "stdout",
          "text": [
            "Player Ash has icon X\n"
          ]
        }
      ]
    },
    {
      "cell_type": "code",
      "metadata": {
        "id": "yYsWrvVlVurj"
      },
      "source": [
        "# Custom exception\n",
        "class PositionFilledError(Exception):\n",
        "  pass"
      ],
      "execution_count": 4,
      "outputs": []
    },
    {
      "cell_type": "code",
      "metadata": {
        "id": "vQU45Uc6FROS"
      },
      "source": [
        "# class modelling a TTT board\n",
        "class Board:\n",
        "  def __init__(self):\n",
        "    self.cells = np.array(['' for i in range(0, 9)]).reshape(3, 3)\n",
        "\n",
        "  def insertIcon(self, icon, row, col):\n",
        "    if (self.cells[row, col] != \"\"):\n",
        "      raise PositionFilledError(\"Position ({}, {}) is filled\".format(row, col))\n",
        "    self.cells[row, col] = icon\n",
        "  \n",
        "  def __str__(self):\n",
        "    return str(self.cells)\n",
        "  \n",
        "  def getBoard(self):\n",
        "    return self.cells\n",
        "\n",
        "  def isEmpty(self):\n",
        "    for row in self.cells:\n",
        "      for e in row:\n",
        "        if e == \"\":\n",
        "          return True\n",
        "    return False"
      ],
      "execution_count": 24,
      "outputs": []
    },
    {
      "cell_type": "code",
      "metadata": {
        "colab": {
          "base_uri": "https://localhost:8080/"
        },
        "id": "a_jrRtoNHGKy",
        "outputId": "621db0ba-ba80-4550-eb36-643a0275027b"
      },
      "source": [
        "# testing the board class\n",
        "b = Board()\n",
        "b.insertIcon('X', 2, 2)\n",
        "print(b)"
      ],
      "execution_count": 6,
      "outputs": [
        {
          "output_type": "stream",
          "name": "stdout",
          "text": [
            "[['' '' '']\n",
            " ['' '' '']\n",
            " ['' '' 'X']]\n"
          ]
        }
      ]
    },
    {
      "cell_type": "code",
      "metadata": {
        "id": "PVessEskTzKU"
      },
      "source": [
        "# function to simulate one round of game\n",
        "def play(player, board):\n",
        "  while True:\n",
        "    try:\n",
        "      print(\"Current status of board:\\n\" + str(board))\n",
        "      pos = eval(input(\"Enter position where to insert (p1, p2): \"))\n",
        "      board.insertIcon(player.getIcon(), pos[0], pos[1])\n",
        "      print(\"Position ({}, {}) filled as {}\\n\".format(pos[0], pos[1], player.getIcon()))\n",
        "      break\n",
        "    except Exception as err:\n",
        "      print(err)\n",
        "      print(\"\\nTry again...\\n\")\n",
        "      continue"
      ],
      "execution_count": 7,
      "outputs": []
    },
    {
      "cell_type": "code",
      "metadata": {
        "colab": {
          "base_uri": "https://localhost:8080/"
        },
        "id": "ks15s5XUWTPt",
        "outputId": "21685a11-f029-4797-f192-2bac01e6bd0d"
      },
      "source": [
        "# Testing out the function\n",
        "p = Player(\"Ash\")\n",
        "b = Board()\n",
        "play(p, b)"
      ],
      "execution_count": null,
      "outputs": [
        {
          "output_type": "stream",
          "name": "stdout",
          "text": [
            "Current status of board:\n",
            "[['' '' '']\n",
            " ['' '' '']\n",
            " ['' '' '']]\n",
            "Enter position where to insert (p1, p2): 2,0\n",
            "Position (2, 0) filled as X\n",
            "\n"
          ]
        }
      ]
    },
    {
      "cell_type": "code",
      "metadata": {
        "id": "wvpJpfZl4FF2"
      },
      "source": [
        "# Criteria for winning/draw\n",
        "def hasWon(player, board):\n",
        "  cells = board.getBoard()\n",
        "  # Horizontally completed a row\n",
        "  for row in cells:\n",
        "    hasWon = True\n",
        "    for e in row:\n",
        "      if e != player.getIcon():\n",
        "        hasWon = False\n",
        "        break\n",
        "    if hasWon:\n",
        "      player.setWon()\n",
        "      return True \n",
        "\n",
        "  # Vertically completed a column\n",
        "  for i in range(len(cells)):\n",
        "    hasWon = True\n",
        "    for j in range(len(cells[i])):\n",
        "      if cells[j][i] != player.getIcon():\n",
        "        hasWon = False\n",
        "        break\n",
        "    if hasWon:\n",
        "      player.setWon()\n",
        "      return True\n",
        "\n",
        "    # Completed left diagonal\n",
        "    for i in range(len(cells)):\n",
        "      hasWon = True\n",
        "      if cells[i][i] != player.getIcon():\n",
        "        hasWon = False\n",
        "        break\n",
        "    if hasWon:\n",
        "      player.setWon()\n",
        "      return True\n",
        "\n",
        "    # Completed right diagonal\n",
        "    for i in range(len(cells)):\n",
        "      hasWon = True\n",
        "      if cells[i][len(cells) - i - 1] != player.getIcon():\n",
        "        hasWon = False\n",
        "        break\n",
        "    if hasWon:\n",
        "      player.setWon()\n",
        "      return True\n"
      ],
      "execution_count": 16,
      "outputs": []
    },
    {
      "cell_type": "code",
      "metadata": {
        "id": "e2fZDaLfYbCS"
      },
      "source": [
        "def playGame(p1, p2, board):\n",
        "  p1Turn = True\n",
        "  while (not hasWon(p1, board) and not hasWon(p2, board) and board.isEmpty()):\n",
        "    print(\"Current status of game:\\n\")\n",
        "    print(p1)\n",
        "    print(p2, '\\n')\n",
        "\n",
        "    player = p1 if p1Turn else p2\n",
        "    print(\"Currently {}'s turn:\".format(player.getName()))\n",
        "    play(player, board) \n",
        "    p1Turn = not p1Turn\n",
        "  print(board)\n",
        "  if not p1.hasWon() and not p2.hasWon():\n",
        "    print(\"It's a tie!\")\n",
        "  else:\n",
        "    print(\"{} has won!\".format(p1.getName() if p1.hasWon() else p2.getName()))"
      ],
      "execution_count": 28,
      "outputs": []
    },
    {
      "cell_type": "code",
      "metadata": {
        "colab": {
          "base_uri": "https://localhost:8080/"
        },
        "id": "0mYuqLxcaOcB",
        "outputId": "837fcd85-4f0b-45b7-d0bd-3c307661f50c"
      },
      "source": [
        "playGame(Pl2ayer(\"Ash\", icon='X'), Player(\"Gary\", icon='O'), Board())"
      ],
      "execution_count": 29,
      "outputs": [
        {
          "output_type": "stream",
          "name": "stdout",
          "text": [
            "Current status of game:\n",
            "\n",
            "Player Ash has icon X\n",
            "Player Gary has icon O \n",
            "\n",
            "Currently Ash's turn:\n",
            "Current status of board:\n",
            "[['' '' '']\n",
            " ['' '' '']\n",
            " ['' '' '']]\n",
            "Enter position where to insert (p1, p2): 0,0\n",
            "Position (0, 0) filled as X\n",
            "\n",
            "Current status of game:\n",
            "\n",
            "Player Ash has icon X\n",
            "Player Gary has icon O \n",
            "\n",
            "Currently Gary's turn:\n",
            "Current status of board:\n",
            "[['X' '' '']\n",
            " ['' '' '']\n",
            " ['' '' '']]\n",
            "Enter position where to insert (p1, p2): 1,0\n",
            "Position (1, 0) filled as O\n",
            "\n",
            "Current status of game:\n",
            "\n",
            "Player Ash has icon X\n",
            "Player Gary has icon O \n",
            "\n",
            "Currently Ash's turn:\n",
            "Current status of board:\n",
            "[['X' '' '']\n",
            " ['O' '' '']\n",
            " ['' '' '']]\n",
            "Enter position where to insert (p1, p2): ,0\n",
            "invalid syntax (<string>, line 1)\n",
            "\n",
            "Try again...\n",
            "\n",
            "Current status of board:\n",
            "[['X' '' '']\n",
            " ['O' '' '']\n",
            " ['' '' '']]\n",
            "Enter position where to insert (p1, p2): 2,0\n",
            "Position (2, 0) filled as X\n",
            "\n",
            "Current status of game:\n",
            "\n",
            "Player Ash has icon X\n",
            "Player Gary has icon O \n",
            "\n",
            "Currently Gary's turn:\n",
            "Current status of board:\n",
            "[['X' '' '']\n",
            " ['O' '' '']\n",
            " ['X' '' '']]\n",
            "Enter position where to insert (p1, p2): 0,1\n",
            "Position (0, 1) filled as O\n",
            "\n",
            "Current status of game:\n",
            "\n",
            "Player Ash has icon X\n",
            "Player Gary has icon O \n",
            "\n",
            "Currently Ash's turn:\n",
            "Current status of board:\n",
            "[['X' 'O' '']\n",
            " ['O' '' '']\n",
            " ['X' '' '']]\n",
            "Enter position where to insert (p1, p2): 1,1\n",
            "Position (1, 1) filled as X\n",
            "\n",
            "Current status of game:\n",
            "\n",
            "Player Ash has icon X\n",
            "Player Gary has icon O \n",
            "\n",
            "Currently Gary's turn:\n",
            "Current status of board:\n",
            "[['X' 'O' '']\n",
            " ['O' 'X' '']\n",
            " ['X' '' '']]\n",
            "Enter position where to insert (p1, p2): 2,2\n",
            "Position (2, 2) filled as O\n",
            "\n",
            "Current status of game:\n",
            "\n",
            "Player Ash has icon X\n",
            "Player Gary has icon O \n",
            "\n",
            "Currently Ash's turn:\n",
            "Current status of board:\n",
            "[['X' 'O' '']\n",
            " ['O' 'X' '']\n",
            " ['X' '' 'O']]\n",
            "Enter position where to insert (p1, p2): 1,2\n",
            "Position (1, 2) filled as X\n",
            "\n",
            "Current status of game:\n",
            "\n",
            "Player Ash has icon X\n",
            "Player Gary has icon O \n",
            "\n",
            "Currently Gary's turn:\n",
            "Current status of board:\n",
            "[['X' 'O' '']\n",
            " ['O' 'X' 'X']\n",
            " ['X' '' 'O']]\n",
            "Enter position where to insert (p1, p2): 0,2\n",
            "Position (0, 2) filled as O\n",
            "\n",
            "Current status of game:\n",
            "\n",
            "Player Ash has icon X\n",
            "Player Gary has icon O \n",
            "\n",
            "Currently Ash's turn:\n",
            "Current status of board:\n",
            "[['X' 'O' 'O']\n",
            " ['O' 'X' 'X']\n",
            " ['X' '' 'O']]\n",
            "Enter position where to insert (p1, p2): 2,1\n",
            "Position (2, 1) filled as X\n",
            "\n",
            "[['X' 'O' 'O']\n",
            " ['O' 'X' 'X']\n",
            " ['X' 'X' 'O']]\n",
            "It's a tie!\n"
          ]
        }
      ]
    }
  ]
}